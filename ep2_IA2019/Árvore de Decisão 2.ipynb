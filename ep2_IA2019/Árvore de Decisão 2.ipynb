{
 "cells": [
  {
   "cell_type": "code",
   "execution_count": 2,
   "metadata": {},
   "outputs": [],
   "source": [
    "%matplotlib inline\n",
    "import matplotlib.pyplot as plt\n",
    "\n",
    "from pandas import DataFrame  as df\n",
    "import os\n",
    "import numpy as np\n",
    "from sklearn.neighbors import KNeighborsClassifier\n",
    "from sklearn.preprocessing import minmax_scale\n",
    "from sklearn.preprocessing import scale\n",
    "from sklearn.model_selection import train_test_split\n",
    "from math import log\n",
    "import math\n",
    "from decimal import *\n",
    "from sklearn.preprocessing import scale"
   ]
  },
  {
   "cell_type": "code",
   "execution_count": 5,
   "metadata": {},
   "outputs": [],
   "source": [
    "import pandas  \n",
    "from sklearn.tree import DecisionTreeClassifier # Import Decision Tree Classifier\n",
    "from sklearn.model_selection import train_test_split # Import train_test_split function\n",
    "from sklearn import metrics #Import scikit-learn metrics module for accuracy calculation"
   ]
  },
  {
   "cell_type": "code",
   "execution_count": 6,
   "metadata": {},
   "outputs": [
    {
     "name": "stdout",
     "output_type": "stream",
     "text": [
      "['Still' 'Car' 'Train' 'Bus' 'Walking']\n"
     ]
    }
   ],
   "source": [
    "#leitura da base e definição dos campos utilizados\n",
    "baseTotalAtributos = pandas.read_csv (r\"C:\\Users\\Gerson\\Desktop\\EP2_ia2019\\dataset_5secondWindow%5B3%5D.csv\", usecols =  [\"time\",\"android.sensor.accelerometer#mean\",\"android.sensor.linear_acceleration#mean\",\"android.sensor.orientation#mean\",\"speed#mean\"])\n",
    "baseTotalClasse = pandas.read_csv (r\"C:\\Users\\Gerson\\Desktop\\EP2_ia2019\\dataset_5secondWindow%5B3%5D.csv\", usecols = [\"target\"])\n",
    "\n",
    "print(baseTotalClasse['target'].unique())"
   ]
  },
  {
   "cell_type": "code",
   "execution_count": 7,
   "metadata": {},
   "outputs": [],
   "source": [
    "#normalização por padronização dos dados\n",
    "\n",
    "colunas =  list(baseTotalAtributos.columns)\n",
    "\n",
    "baseTotalAtributosNorm = baseTotalAtributos.copy()\n",
    "baseTotalAtributosNorm[colunas] = baseTotalAtributos[colunas].apply(scale)\n"
   ]
  },
  {
   "cell_type": "code",
   "execution_count": 8,
   "metadata": {},
   "outputs": [],
   "source": [
    "baseTreinoNaoNorm,  baseTesteNaoNorm , classeTreinoNaoNorm, classeTesteNaoNorm = train_test_split(baseTotalAtributos, baseTotalClasse, test_size = 0.3 , train_size = 0.7, random_state = 0)\n",
    "baseTreinoNorm,  baseTesteNorm , classeTreinoNorm, classeTesteNorm = train_test_split(baseTotalAtributosNorm, baseTotalClasse, test_size = 0.3 , train_size = 0.7, random_state = 0)\n"
   ]
  },
  {
   "cell_type": "code",
   "execution_count": 9,
   "metadata": {},
   "outputs": [],
   "source": [
    "#gráfico de profundidade árvore vcs acurácia:\n",
    "def treeDecision(baseTreino,classeTreino,baseTeste,classeTeste,depth ):\n",
    "    \n",
    "    clf_sem_poda = DecisionTreeClassifier().fit(baseTreino,classeTreino)\n",
    "    #inserir poda na árvore tentar fazer um gráfico de como a poda impacta na acurácia\n",
    "    clf_com_poda = DecisionTreeClassifier( max_depth = depth).fit( baseTreino,classeTreino )\n",
    "\n",
    "    #Predict the response for test dataset\n",
    "    classe_predita_comPoda = clf_com_poda.predict(baseTeste)\n",
    "    classe_predita_semPoda = clf_sem_poda.predict(baseTeste)\n",
    "    \n",
    "    \n",
    "    print(\"Sem Poda: \",metrics.accuracy_score(classeTeste, classe_predita_semPoda))\n",
    "    print(\"Com Poda: \", metrics.accuracy_score(classeTeste, classe_predita_comPoda))   \n",
    "    \n"
   ]
  },
  {
   "cell_type": "code",
   "execution_count": 10,
   "metadata": {},
   "outputs": [
    {
     "name": "stdout",
     "output_type": "stream",
     "text": [
      "Sem Poda:  0.8156108597285068\n",
      "Com Poda:  0.7007918552036199\n"
     ]
    }
   ],
   "source": [
    "treeDecision(baseTreinoNaoNorm,classeTreinoNaoNorm,baseTesteNaoNorm , classeTesteNaoNorm,4)\n"
   ]
  },
  {
   "cell_type": "code",
   "execution_count": 11,
   "metadata": {},
   "outputs": [
    {
     "name": "stdout",
     "output_type": "stream",
     "text": [
      "Sem Poda:  0.8093891402714932\n",
      "Com Poda:  0.7007918552036199\n"
     ]
    }
   ],
   "source": [
    "treeDecision(baseTreinoNorm,classeTreinoNorm,baseTesteNorm , classeTesteNorm,4)"
   ]
  },
  {
   "cell_type": "code",
   "execution_count": 55,
   "metadata": {},
   "outputs": [],
   "source": [
    "def gaficoPoda(profundidade):\n",
    "    lista_acuracia ={}\n",
    "    for i in range(profundidade):\n",
    "        x, y =treeDecision(baseTreinoNaoNorm,classeTreinoNaoNorm,baseTesteNaoNorm , classeTesteNaoNorm,i+1)\n",
    "        lista_acuracia [i+1] = y\n",
    "    \n",
    "    x1, y1 = zip(*sorted(lista.items()) )\n",
    "\n",
    "    plt.plot(x1, y1)"
   ]
  },
  {
   "cell_type": "code",
   "execution_count": 57,
   "metadata": {},
   "outputs": [
    {
     "data": {
      "image/png": "[encoded data removed]",
      "text/plain": [
       "<Figure size 432x288 with 1 Axes>"
      ]
     },
     "metadata": {
      "needs_background": "light"
     },
     "output_type": "display_data"
    }
   ],
   "source": [
    "gaficoPoda(15)"
   ]
  },
  {
   "cell_type": "code",
   "execution_count": 16,
   "metadata": {},
   "outputs": [],
   "source": [
    "#verificando robustez \n",
    "def mudarClasse(baseClasseTreinamento , classesDistintas,test,train):\n",
    "    \n",
    "    baseTempClasseTreinamento =  baseClasseTreinamento.copy()\n",
    "\n",
    "    base_ruido ,base_nao_ruido =train_test_split(baseTempClasseTreinamento,test_size = test,  train_size = train , random_state = 0)\n",
    "   \n",
    "  \n",
    "    for index,classe in base_ruido.iterrows():\n",
    "        classesDistintasTemp = classesDistintas\n",
    "        i =  np.where(classesDistintasTemp == classe['target'])\n",
    "      \n",
    "        \n",
    "        classesDistintasTemp = np.delete(classesDistintasTemp,i)\n",
    "       \n",
    "        baseTempClasseTreinamento['target'][index] =  np.random.choice(classesDistintasTemp,1)[0]\n",
    "       \n",
    "        #print(np.random.choice(classesDistintasTemp,1)[0], type(np.random.choice(classesDistintasTemp,1)))\n",
    "  \n",
    "    return  baseTempClasseTreinamento \n",
    "\n",
    "classDistinct = baseTotalClasse['target'].unique()"
   ]
  },
  {
   "cell_type": "code",
   "execution_count": 23,
   "metadata": {},
   "outputs": [
    {
     "name": "stdout",
     "output_type": "stream",
     "text": [
      "Sem Poda:  0.7765837104072398\n",
      "Com Poda:  0.6968325791855203\n"
     ]
    }
   ],
   "source": [
    "#5%\n",
    "classe5 = mudarClasse(classeTreinoNorm, classDistinct,0.95,0.05  )\n",
    "treeDecision(baseTreinoNorm,classe5,baseTesteNorm , classeTesteNorm,4)\n"
   ]
  },
  {
   "cell_type": "code",
   "execution_count": 22,
   "metadata": {},
   "outputs": [
    {
     "name": "stdout",
     "output_type": "stream",
     "text": [
      "Sem Poda:  0.7205882352941176\n",
      "Com Poda:  0.6957013574660633\n"
     ]
    }
   ],
   "source": [
    "#10%\n",
    "classe10 = mudarClasse(classeTreinoNorm, classDistinct,0.9,0.1  )\n",
    "treeDecision(baseTreinoNorm,classe10,baseTesteNorm , classeTesteNorm,4)\n"
   ]
  },
  {
   "cell_type": "code",
   "execution_count": 24,
   "metadata": {},
   "outputs": [
    {
     "name": "stdout",
     "output_type": "stream",
     "text": [
      "Sem Poda:  0.6889140271493213\n",
      "Com Poda:  0.7002262443438914\n"
     ]
    }
   ],
   "source": [
    "#15%\n",
    "classe10 = mudarClasse(classeTreinoNorm, classDistinct,0.85,0.15  )\n",
    "treeDecision(baseTreinoNorm,classe10,baseTesteNorm , classeTesteNorm,4)\n"
   ]
  },
  {
   "cell_type": "code",
   "execution_count": 25,
   "metadata": {},
   "outputs": [
    {
     "name": "stdout",
     "output_type": "stream",
     "text": [
      "Sem Poda:  0.6521493212669683\n",
      "Com Poda:  0.7002262443438914\n"
     ]
    }
   ],
   "source": [
    "#20%\n",
    "classe10 = mudarClasse(classeTreinoNorm, classDistinct,0.8,0.2  )\n",
    "treeDecision(baseTreinoNorm,classe10,baseTesteNorm , classeTesteNorm,4)\n"
   ]
  },
  {
   "cell_type": "code",
   "execution_count": 26,
   "metadata": {},
   "outputs": [
    {
     "name": "stdout",
     "output_type": "stream",
     "text": [
      "Sem Poda:  0.6142533936651584\n",
      "Com Poda:  0.6990950226244343\n"
     ]
    }
   ],
   "source": [
    "#25%\n",
    "classe10 = mudarClasse(classeTreinoNorm, classDistinct,0.75,0.25  )\n",
    "treeDecision(baseTreinoNorm,classe10,baseTesteNorm , classeTesteNorm,4)\n"
   ]
  },
  {
   "cell_type": "code",
   "execution_count": null,
   "metadata": {},
   "outputs": [],
   "source": []
  }
 ],
 "metadata": {
  "kernelspec": {
   "display_name": "Python 3",
   "language": "python",
   "name": "python3"
  },
  "language_info": {
   "codemirror_mode": {
    "name": "ipython",
    "version": 3
   },
   "file_extension": ".py",
   "mimetype": "text/x-python",
   "name": "python",
   "nbconvert_exporter": "python",
   "pygments_lexer": "ipython3",
   "version": "3.7.3"
  }
 },
 "nbformat": 4,
 "nbformat_minor": 2
}
