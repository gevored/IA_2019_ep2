{
 "cells": [
  {
   "cell_type": "code",
   "execution_count": 1,
   "metadata": {},
   "outputs": [],
   "source": [
    "%matplotlib inline\n",
    "import matplotlib.pyplot as plt\n",
    "\n",
    "from pandas import DataFrame  as df\n",
    "import os\n",
    "import numpy as np\n",
    "from sklearn.neighbors import KNeighborsClassifier\n",
    "from sklearn.preprocessing import minmax_scale\n",
    "from sklearn.preprocessing import scale\n",
    "from sklearn.model_selection import train_test_split\n",
    "from math import log\n",
    "import math\n",
    "from decimal import *\n",
    "from sklearn.preprocessing import scale"
   ]
  },
  {
   "cell_type": "code",
   "execution_count": 2,
   "metadata": {},
   "outputs": [],
   "source": [
    "import pandas  as pd\n",
    "from sklearn.tree import DecisionTreeClassifier # Import Decision Tree Classifier\n",
    "from sklearn.model_selection import train_test_split # Import train_test_split function\n",
    "from sklearn import metrics #Import scikit-learn metrics module for accuracy calculation"
   ]
  },
  {
   "cell_type": "code",
   "execution_count": 21,
   "metadata": {},
   "outputs": [
    {
     "name": "stdout",
     "output_type": "stream",
     "text": [
      "['Still' 'Car' 'Train' 'Bus' 'Walking']\n"
     ]
    }
   ],
   "source": [
    "#leitura da base e definição dos campos utilizados\n",
    "baseTotalAtributos = pandas.read_csv (r\"C:\\Users\\Gerson\\Desktop\\EP2_ia2019\\dataset_5secondWindow%5B3%5D.csv\", usecols =  [\"time\",\"android.sensor.accelerometer#mean\",\"android.sensor.linear_acceleration#mean\",\"android.sensor.orientation#mean\",\"speed#mean\"])\n",
    "baseTotalClasse = pandas.read_csv (r\"C:\\Users\\Gerson\\Desktop\\EP2_ia2019\\dataset_5secondWindow%5B3%5D.csv\", usecols = [\"target\"])\n",
    "\n",
    "print(baseTotalClasse['target'].unique())"
   ]
  },
  {
   "cell_type": "code",
   "execution_count": 32,
   "metadata": {},
   "outputs": [
    {
     "name": "stdout",
     "output_type": "stream",
     "text": [
      "      time  android.sensor.accelerometer#mean  \\\n",
      "0 -0.31413                          -0.299592   \n",
      "\n",
      "   android.sensor.linear_acceleration#mean  android.sensor.orientation#mean  \\\n",
      "0                                -0.589346                         1.469277   \n",
      "\n",
      "   speed#mean  \n",
      "0    -0.03714  \n"
     ]
    }
   ],
   "source": [
    "#normalização por padronização dos dados\n",
    "\n",
    "colunas =  list(baseTotalAtributos.columns)\n",
    "\n",
    "baseTotalAtributosNorm = baseTotalAtributos.copy()\n",
    "baseTotalAtributosNorm[colunas] = baseTotalAtributos[colunas].apply(scale)\n",
    "\n",
    "print (baseTotalAtributosNorm [:1])"
   ]
  },
  {
   "cell_type": "code",
   "execution_count": 33,
   "metadata": {},
   "outputs": [],
   "source": [
    "baseTreinoNaoNorm,  baseTesteNaoNorm , classeTreinoNaoNorm, classeTesteNaoNorm = train_test_split(baseTotalAtributos, baseTotalClasse, test_size = 0.3 , train_size = 0.7, random_state = 0)\n",
    "baseTreinoNorm,  baseTesteNorm , classeTreinoNorm, classeTesteNorm = train_test_split(baseTotalAtributosNorm, baseTotalClasse, test_size = 0.3 , train_size = 0.7, random_state = 0)\n"
   ]
  },
  {
   "cell_type": "code",
   "execution_count": 39,
   "metadata": {},
   "outputs": [],
   "source": [
    "#gráfico de profundidade árvore vcs acurácia:\n",
    "def treeDecision(baseTreino,classeTreino,baseTeste,classeTeste,depth ):\n",
    "    \n",
    "    clf_sem_poda = DecisionTreeClassifier().fit(baseTreino,classeTreino)\n",
    "    #inserir poda na árvore tentar fazer um gráfico de como a poda impacta na acurácia\n",
    "    clf_com_poda = DecisionTreeClassifier( max_depth = depth).fit( baseTreino,classeTreino )\n",
    "\n",
    "    #Predict the response for test dataset\n",
    "    classe_predita_comPoda = clf_com_poda.predict(baseTeste)\n",
    "    classe_predita_semPoda = clf_sem_poda.predict(baseTeste)\n",
    "    \n",
    "    return metrics.accuracy_score(classeTeste, classe_predita_semPoda) , metrics.accuracy_score(classeTeste, classe_predita_comPoda)  \n"
   ]
  },
  {
   "cell_type": "code",
   "execution_count": 40,
   "metadata": {},
   "outputs": [
    {
     "data": {
      "text/plain": [
       "(0.8144796380090498, 0.7007918552036199)"
      ]
     },
     "execution_count": 40,
     "metadata": {},
     "output_type": "execute_result"
    }
   ],
   "source": [
    "treeDecision(baseTreinoNaoNorm,classeTreinoNaoNorm,baseTesteNaoNorm , classeTesteNaoNorm,4)"
   ]
  },
  {
   "cell_type": "code",
   "execution_count": 52,
   "metadata": {},
   "outputs": [],
   "source": [
    "\n",
    "def gaficoPoda(profundidade):\n",
    "    lista_acuracia ={}\n",
    "    for i in range(profundidade):\n",
    "        x, y =treeDecision(baseTreinoNaoNorm,classeTreinoNaoNorm,baseTesteNaoNorm , classeTesteNaoNorm,i+1)\n",
    "        lista_acuracia [i+1] = y\n",
    "    return lista_acuracia"
   ]
  },
  {
   "cell_type": "code",
   "execution_count": 54,
   "metadata": {},
   "outputs": [],
   "source": [
    "lista = gaficoPoda(10)\n",
    "#Gerar gráfico de acurácia vs nível de profundidade \n",
    "listaDistEuclid,listaDistManhatt = AcuraciaVSk(baseTreinoNaoNorm,baseTesteNaoNorm,10)\n",
    "\n",
    "x1, y1 = zip(*sorted(lista.items()) )\n",
    "\n",
    "\n",
    "plt.plot(x1, y1)\n"
   ]
  },
  {
   "cell_type": "code",
   "execution_count": null,
   "metadata": {},
   "outputs": [],
   "source": []
  }
 ],
 "metadata": {
  "kernelspec": {
   "display_name": "Python 3",
   "language": "python",
   "name": "python3"
  },
  "language_info": {
   "codemirror_mode": {
    "name": "ipython",
    "version": 3
   },
   "file_extension": ".py",
   "mimetype": "text/x-python",
   "name": "python",
   "nbconvert_exporter": "python",
   "pygments_lexer": "ipython3",
   "version": "3.7.3"
  }
 },
 "nbformat": 4,
 "nbformat_minor": 2
}
