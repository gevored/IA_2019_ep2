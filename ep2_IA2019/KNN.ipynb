{
 "cells": [
  {
   "cell_type": "code",
   "execution_count": 1,
   "metadata": {
    "scrolled": true
   },
   "outputs": [],
   "source": [
    "%matplotlib inline\n",
    "import matplotlib.pyplot as plt\n",
    "import pandas \n",
    "import os\n",
    "import numpy as np\n",
    "from sklearn.neighbors import KNeighborsClassifier\n",
    "from sklearn.preprocessing import minmax_scale\n",
    "from sklearn.preprocessing import scale\n",
    "from sklearn.model_selection import train_test_split\n",
    "import math"
   ]
  },
  {
   "cell_type": "code",
   "execution_count": 2,
   "metadata": {
    "scrolled": false
   },
   "outputs": [
    {
     "name": "stdout",
     "output_type": "stream",
     "text": [
      "['Still' 'Car' 'Train' 'Bus' 'Walking']\n"
     ]
    }
   ],
   "source": [
    "#leitura da base e definição dos campos utilizados\n",
    "baseTotalAtributos = pandas.read_csv (r\"C:\\Users\\gerso\\Desktop\\EP2_ia2019\\dataset_5secondWindow%5B3%5D.csv\", usecols =  [\"time\",\"android.sensor.accelerometer#mean\",\"android.sensor.linear_acceleration#mean\",\"android.sensor.orientation#mean\",\"speed#mean\"])\n",
    "baseTotalClasse = pandas.read_csv (r\"C:\\Users\\gerso\\Desktop\\EP2_ia2019\\dataset_5secondWindow%5B3%5D.csv\", usecols = [\"target\"])\n",
    "                          \n",
    "\n",
    "print(baseTotalClasse['target'].unique())"
   ]
  },
  {
   "cell_type": "code",
   "execution_count": 3,
   "metadata": {
    "scrolled": true
   },
   "outputs": [],
   "source": [
    "#normalização linear dos dados \n",
    "\n",
    "colunas =  list(baseTotalAtributos.columns)\n",
    "\n",
    "baseTotalAtributosNorm = baseTotalAtributos.copy()\n",
    "baseTotalAtributosNorm[colunas] = baseTotalAtributos[colunas].apply(minmax_scale)"
   ]
  },
  {
   "cell_type": "code",
   "execution_count": 4,
   "metadata": {},
   "outputs": [],
   "source": [
    "#particionamento da base 70 % para o conjunto de teste e 30 % para o conjunto de treinamento\n",
    "baseTreino,  baseTeste , classeTreino, classeTeste = train_test_split(baseTotalAtributosNorm, baseTotalClasse, test_size = 0.3 , train_size = 0.7, random_state = 0)"
   ]
  },
  {
   "cell_type": "code",
   "execution_count": 18,
   "metadata": {},
   "outputs": [],
   "source": [
    "def dist_euclidiana(exemploTeste ,exemploTreinamento):\n",
    "    dim, soma = len(exemploTreinamento),0\n",
    "    for i in range(dim):\n",
    "        soma += math.pow(exemploTreinamento[i] - exemploTeste[i], 2)\n",
    "    return math.sqrt(soma)      \n",
    "    "
   ]
  },
  {
   "cell_type": "code",
   "execution_count": 19,
   "metadata": {},
   "outputs": [],
   "source": [
    "def dist_manhattan(exemploTeste,exemploTreinamento):\n",
    "    dim,soma = len(exemploTreinamento),0\n",
    "    for i in range(dim):\n",
    "        soma += abs(exemploTeste[i]-exemploTreinamento[i])\n",
    "    return soma"
   ]
  },
  {
   "cell_type": "code",
   "execution_count": 40,
   "metadata": {},
   "outputs": [],
   "source": [
    "def votacaoKNN (listaDeDistancia,k):\n",
    "    \n",
    "    listaClasses = []\n",
    "    \n",
    "    # obtém as chaves (índices) dos k-vizinhos mais próximos, por default a ordenação é crescente\n",
    "    k_vizinhos = sorted(listaDeDistancia, key=listaDeDistancia.get)[:k]\n",
    "    \n",
    "    #identifica as classes dos k vizinhos mais próximos e insere na listaClasses\n",
    "    for indice in k_vizinhos:\n",
    "            listaClasses.append(baseTotalClasse['target'][indice])\n",
    "            \n",
    "    #contabiliza para os k elementos a quantidade de classes identificadas \n",
    "    unique_elements, counts_elements = np.unique(listaClasses, return_counts=True )    \n",
    "    \n",
    "    #através do np.argmax é identificado o ídice que representa o maior valor( que significa a quantidade de vezes que a classe está presente no vetor) , \n",
    "    #este índice é aproveitado para identificar no array \"unique_elements\" qual a classe escolhida \n",
    "    \n",
    "    listaClasses.clear()\n",
    "    return unique_elements[np.argmax(counts_elements)] \n",
    " "
   ]
  },
  {
   "cell_type": "code",
   "execution_count": 46,
   "metadata": {},
   "outputs": [],
   "source": [
    "def KNNmetodo(dataSetTreino,dataSetTeste,k):\n",
    "    dicDistEuclid = {}\n",
    "    dicDistManhat ={}\n",
    "    \n",
    "    dicResultadoEuclid = {}\n",
    "    dicResultadoManhat = {}\n",
    "    \n",
    "    for indexTeste , exemploTeste in dataSetTeste.iterrows():\n",
    "        \n",
    "        for indexTreinamento,exemploTreinamento in  dataSetTreino.iterrows():\n",
    "            dist_eucli = dist_euclidiana(exemploTeste,exemploTreinamento)\n",
    "            dist_manhat = dist_manhattan(exemploTeste,exemploTreinamento)\n",
    "\n",
    "            dicDistEuclid[indexTreinamento] = dist_eucli\n",
    "            dicDistManhat[indexTreinamento] = dist_manhat\n",
    "            \n",
    "        #votação\n",
    "        \n",
    "        dicResultadoEuclid[indexTeste] =votacaoKNN(dicDistEuclid,k)\n",
    "        dicResultadoManhat[indexTeste] =votacaoKNN(dicDistManhat,k)\n",
    "     \n",
    "    return dicResultadoEuclid , dicResultadoManhat , dataSetTeste\n",
    "        "
   ]
  },
  {
   "cell_type": "code",
   "execution_count": 54,
   "metadata": {
    "scrolled": true
   },
   "outputs": [],
   "source": [
    "\n",
    "#invocando a função KNN com filtro de quantidade de registros para teste\n",
    "dicClassificadosEuclid, dicClassificadosManhat , setTeste= KNNmetodo(baseTreino,baseTeste,3)\n"
   ]
  },
  {
   "cell_type": "code",
   "execution_count": 55,
   "metadata": {},
   "outputs": [
    {
     "name": "stdout",
     "output_type": "stream",
     "text": [
      "0.8557692307692307 0.8529411764705882\n"
     ]
    }
   ],
   "source": [
    "acertosEuclid = 0\n",
    "acertosManhat = 0\n",
    "\n",
    "for i , exemploTeste in setTeste.iterrows():\n",
    "    if(classeTeste[\"target\"][i] ==dicClassificadosEuclid[i] ):\n",
    "        acertosEuclid += 1\n",
    "    if(classeTeste[\"target\"][i] ==dicClassificadosManhat[i] ):\n",
    "        acertosManhat +=1\n",
    "        \n",
    "print (acertosManhat/len(setTeste), acertosEuclid/len(setTeste) )\n",
    "        "
   ]
  }
 ],
 "metadata": {
  "kernelspec": {
   "display_name": "Python 3",
   "language": "python",
   "name": "python3"
  },
  "language_info": {
   "codemirror_mode": {
    "name": "ipython",
    "version": 3
   },
   "file_extension": ".py",
   "mimetype": "text/x-python",
   "name": "python",
   "nbconvert_exporter": "python",
   "pygments_lexer": "ipython3",
   "version": "3.7.3"
  }
 },
 "nbformat": 4,
 "nbformat_minor": 2
}
