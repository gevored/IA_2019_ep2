{
 "cells": [
  {
   "cell_type": "code",
   "execution_count": 15,
   "metadata": {
    "scrolled": true
   },
   "outputs": [],
   "source": [
    "%matplotlib inline\n",
    "import matplotlib.pyplot as plt\n",
    "import pandas \n",
    "import os\n",
    "import numpy as np\n",
    "from sklearn.neighbors import KNeighborsClassifier\n",
    "from sklearn.preprocessing import minmax_scale\n",
    "from sklearn.preprocessing import scale\n",
    "from sklearn.preprocessing import scale\n",
    "from sklearn.model_selection import train_test_split\n",
    "import math"
   ]
  },
  {
   "cell_type": "code",
   "execution_count": 2,
   "metadata": {
    "scrolled": false
   },
   "outputs": [
    {
     "name": "stdout",
     "output_type": "stream",
     "text": [
      "['Still' 'Car' 'Train' 'Bus' 'Walking']\n"
     ]
    }
   ],
   "source": [
    "#leitura da base e definição dos campos utilizados\n",
    "baseTotalAtributos = pandas.read_csv (r\"C:\\Users\\Gerson\\Desktop\\EP2_ia2019\\dataset_5secondWindow%5B3%5D.csv\", usecols =  [\"time\",\"android.sensor.accelerometer#mean\",\"android.sensor.linear_acceleration#mean\",\"android.sensor.orientation#mean\",\"speed#mean\"])\n",
    "baseTotalClasse = pandas.read_csv (r\"C:\\Users\\Gerson\\Desktop\\EP2_ia2019\\dataset_5secondWindow%5B3%5D.csv\", usecols = [\"target\"])\n",
    "                          \n",
    "\n",
    "print(baseTotalClasse['target'].unique())"
   ]
  },
  {
   "cell_type": "code",
   "execution_count": 21,
   "metadata": {
    "scrolled": true
   },
   "outputs": [],
   "source": [
    "#normalização via padronização \n",
    "\n",
    "colunas =  list(baseTotalAtributos.columns)\n",
    "\n",
    "baseTotalAtributosNorm = baseTotalAtributos.copy()\n",
    "baseTotalAtributosNorm[colunas] = baseTotalAtributos[colunas].apply(scale)"
   ]
  },
  {
   "cell_type": "code",
   "execution_count": 22,
   "metadata": {},
   "outputs": [],
   "source": [
    "#particionamento da base 70 % para o conjunto de teste e 30 % para o conjunto de treinamento\n",
    "\n",
    "baseTreinoNorm,  baseTesteNorm , classeTreinoNorm, classeTesteNorm = train_test_split(baseTotalAtributosNorm, baseTotalClasse, test_size = 0.3 , train_size = 0.7, random_state = 0)\n",
    "baseTreinoNaoNorm,  baseTesteNaoNorm , classeTreinoNaoNorm, classeTesteNaoNorm = train_test_split(baseTotalAtributos, baseTotalClasse, test_size = 0.3 , train_size = 0.7, random_state = 0)"
   ]
  },
  {
   "cell_type": "code",
   "execution_count": 5,
   "metadata": {},
   "outputs": [],
   "source": [
    "def dist_euclidiana(exemploTeste ,exemploTreinamento):\n",
    "    dim, soma = len(exemploTreinamento),0\n",
    "    for i in range(dim):\n",
    "        soma += math.pow(exemploTreinamento[i] - exemploTeste[i], 2)\n",
    "    return math.sqrt(soma)      \n",
    "    "
   ]
  },
  {
   "cell_type": "code",
   "execution_count": 6,
   "metadata": {},
   "outputs": [],
   "source": [
    "def dist_manhattan(exemploTeste,exemploTreinamento):\n",
    "    dim,soma = len(exemploTreinamento),0\n",
    "    for i in range(dim):\n",
    "        soma += abs(exemploTeste[i]-exemploTreinamento[i])\n",
    "    return soma"
   ]
  },
  {
   "cell_type": "code",
   "execution_count": 7,
   "metadata": {},
   "outputs": [],
   "source": [
    "def votacaoKNN (listaDeDistancia,k):\n",
    "    \n",
    "    listaClasses = []\n",
    "    \n",
    "    # obtém as chaves (índices) dos k-vizinhos mais próximos, por default a ordenação é crescente\n",
    "    k_vizinhos = sorted(listaDeDistancia, key=listaDeDistancia.get)[:k]\n",
    "    \n",
    "    #identifica as classes dos k vizinhos mais próximos e insere na listaClasses\n",
    "    for indice in k_vizinhos:\n",
    "            listaClasses.append(baseTotalClasse['target'][indice])\n",
    "            \n",
    "    #contabiliza para os k elementos a quantidade de classes identificadas \n",
    "    unique_elements, counts_elements = np.unique(listaClasses, return_counts=True )    \n",
    "    \n",
    "    #através do np.argmax é identificado o ídice que representa o maior valor( que significa a quantidade de vezes \n",
    "    #que a classe está presente no vetor) ,este índice é aproveitado para identificar no array \n",
    "    #\"unique_elements\" qual a classe escolhida \n",
    "    \n",
    "    listaClasses.clear()\n",
    "    return unique_elements[np.argmax(counts_elements)] \n",
    " "
   ]
  },
  {
   "cell_type": "code",
   "execution_count": 8,
   "metadata": {},
   "outputs": [],
   "source": [
    "def KNNmetodo(dataSetTreino,dataSetTeste,k):\n",
    "    dicDistEuclid = {}\n",
    "    dicDistManhat ={}\n",
    "    \n",
    "    dicResultadoEuclid = {}\n",
    "    dicResultadoManhat = {}\n",
    "    \n",
    "    for indexTeste , exemploTeste in dataSetTeste.iterrows():\n",
    "        \n",
    "        for indexTreinamento,exemploTreinamento in  dataSetTreino.iterrows():\n",
    "            dist_eucli = dist_euclidiana(exemploTeste,exemploTreinamento)\n",
    "            dist_manhat = dist_manhattan(exemploTeste,exemploTreinamento)\n",
    "\n",
    "            dicDistEuclid[indexTreinamento] = dist_eucli\n",
    "            dicDistManhat[indexTreinamento] = dist_manhat\n",
    "            \n",
    "        #votação\n",
    "        \n",
    "        dicResultadoEuclid[indexTeste] =votacaoKNN(dicDistEuclid,k)\n",
    "        dicResultadoManhat[indexTeste] =votacaoKNN(dicDistManhat,k)\n",
    "     \n",
    "    return dicResultadoEuclid , dicResultadoManhat , dataSetTeste\n",
    "        "
   ]
  },
  {
   "cell_type": "code",
   "execution_count": 13,
   "metadata": {
    "scrolled": true
   },
   "outputs": [],
   "source": [
    "\n",
    "\n",
    "dicClassificadosEuclid, dicClassificadosManhat , setTeste= KNNmetodo(baseTreinoNaoNorm,baseTesteNaoNorm,3)\n"
   ]
  },
  {
   "cell_type": "code",
   "execution_count": 13,
   "metadata": {},
   "outputs": [],
   "source": [
    "\n",
    "def AcuraciaKNN(setTeste, dicClassificadosEuclid, dicClassificadosManhat):\n",
    "    acertosEuclid = 0\n",
    "    acertosManhat = 0\n",
    "\n",
    "    for i , exemploTeste in setTeste.iterrows():\n",
    "        if(classeTesteNaoNorm[\"target\"][i] ==dicClassificadosEuclid[i] ):\n",
    "            acertosEuclid += 1\n",
    "        if(classeTesteNaoNorm[\"target\"][i] ==dicClassificadosManhat[i] ):\n",
    "            acertosManhat +=1\n",
    "\n",
    "   # print (acertosManhat/len(setTeste), acertosEuclid/len(setTeste) )\n",
    "    \n",
    "    return acertosManhat/len(setTeste) , acertosEuclid/len(setTeste) \n",
    "        "
   ]
  },
  {
   "cell_type": "code",
   "execution_count": 19,
   "metadata": {},
   "outputs": [
    {
     "data": {
      "text/plain": [
       "(0.6923076923076923, 0.6628959276018099)"
      ]
     },
     "execution_count": 19,
     "metadata": {},
     "output_type": "execute_result"
    }
   ],
   "source": [
    "#1º Questão KNN\n",
    "AcuraciaKNN(setTeste, dicClassificadosEuclid, dicClassificadosManhat )"
   ]
  },
  {
   "cell_type": "code",
   "execution_count": 11,
   "metadata": {},
   "outputs": [],
   "source": [
    "def AcuraciaVSk(baseTreino,baseTeste, k):\n",
    "    \n",
    "    listaEuclid = {}\n",
    "    listaManhatt = {}\n",
    "    for i in range(k):\n",
    "        print(\"iteração:\" + str (i+1))\n",
    "        dicClassificadosEuclid, dicClassificadosManhat , setTeste =  KNNmetodo(baseTreino,baseTeste[:800],i+1)\n",
    "        manhatt ,  euclid = AcuraciaKNN(setTeste,dicClassificadosEuclid , dicClassificadosManhat)\n",
    "        print(euclid,manhatt)\n",
    "        listaEuclid[i+1]=euclid\n",
    "        listaManhatt[i+1] = manhatt\n",
    "    \n",
    "    return listaEuclid, listaManhatt\n",
    "        \n",
    "        "
   ]
  },
  {
   "cell_type": "code",
   "execution_count": 56,
   "metadata": {},
   "outputs": [
    {
     "name": "stdout",
     "output_type": "stream",
     "text": [
      "iteração:1\n",
      "0.7075 0.71875\n",
      "iteração:2\n",
      "0.645 0.65125\n",
      "iteração:3\n",
      "0.6475 0.6725\n",
      "iteração:4\n",
      "0.63125 0.6425\n",
      "iteração:5\n",
      "0.61875 0.64125\n",
      "iteração:6\n",
      "0.61375 0.65125\n",
      "iteração:7\n",
      "0.60375 0.64625\n",
      "iteração:8\n",
      "0.5975 0.6325\n",
      "iteração:9\n",
      "0.6 0.64625\n",
      "iteração:10\n",
      "0.5875 0.63125\n"
     ]
    },
    {
     "data": {
      "text/plain": [
       "[<matplotlib.lines.Line2D at 0x1d0bf2122b0>]"
      ]
     },
     "execution_count": 56,
     "metadata": {},
     "output_type": "execute_result"
    },
    {
     "data": {
      "image/png": "[encoded data removed]",
      "text/plain": [
       "<Figure size 432x288 with 1 Axes>"
      ]
     },
     "metadata": {
      "needs_background": "light"
     },
     "output_type": "display_data"
    }
   ],
   "source": [
    "#2ºQuestão KNN \n",
    "listaDistEuclid,listaDistManhatt = AcuraciaVSk(baseTreinoNaoNorm,baseTesteNaoNorm,10)\n",
    "\n",
    "x1, y1 = zip(*sorted(listaDistManhatt.items()) )\n",
    "x2, y2 = zip(*sorted(listaDistEuclid.items()) )\n",
    "\n",
    "plt.plot(x1, y1)\n",
    "plt.plot(x2, y2)"
   ]
  },
  {
   "cell_type": "code",
   "execution_count": 23,
   "metadata": {},
   "outputs": [],
   "source": [
    "#3º Questão KNN com k = 1\n",
    "\n",
    "dicClassificadosEuclid, dicClassificadosManhat , setTeste= KNNmetodo(baseTreinoNorm,baseTesteNorm,1)"
   ]
  },
  {
   "cell_type": "code",
   "execution_count": 14,
   "metadata": {},
   "outputs": [
    {
     "data": {
      "text/plain": [
       "(0.7782805429864253, 0.7641402714932126)"
      ]
     },
     "execution_count": 14,
     "metadata": {},
     "output_type": "execute_result"
    }
   ],
   "source": [
    "\n",
    "#testando a acurácia com k = 1 \n",
    "AcuraciaKNN(setTeste, dicClassificadosEuclid, dicClassificadosManhat )"
   ]
  },
  {
   "cell_type": "code",
   "execution_count": null,
   "metadata": {},
   "outputs": [],
   "source": []
  }
 ],
 "metadata": {
  "kernelspec": {
   "display_name": "Python 3",
   "language": "python",
   "name": "python3"
  },
  "language_info": {
   "codemirror_mode": {
    "name": "ipython",
    "version": 3
   },
   "file_extension": ".py",
   "mimetype": "text/x-python",
   "name": "python",
   "nbconvert_exporter": "python",
   "pygments_lexer": "ipython3",
   "version": "3.7.3"
  }
 },
 "nbformat": 4,
 "nbformat_minor": 2
}
