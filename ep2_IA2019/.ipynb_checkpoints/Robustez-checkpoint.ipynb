{
 "cells": [
  {
   "cell_type": "code",
   "execution_count": 3,
   "metadata": {},
   "outputs": [],
   "source": [
    "%matplotlib inline\n",
    "import matplotlib.pyplot as plt\n",
    "import pandas \n",
    "from pandas import DataFrame  as df\n",
    "import os\n",
    "import numpy as np\n",
    "from sklearn.neighbors import KNeighborsClassifier\n",
    "from sklearn.preprocessing import minmax_scale\n",
    "from sklearn.preprocessing import scale\n",
    "from sklearn.model_selection import train_test_split\n",
    "from math import log\n",
    "import math\n",
    "from decimal import *\n",
    "from sklearn.preprocessing import scale"
   ]
  },
  {
   "cell_type": "code",
   "execution_count": 5,
   "metadata": {},
   "outputs": [
    {
     "name": "stdout",
     "output_type": "stream",
     "text": [
      "['Still' 'Car' 'Train' 'Bus' 'Walking']\n"
     ]
    }
   ],
   "source": [
    "#leitura da base e definição dos campos utilizados\n",
    "baseTotalAtributos = pandas.read_csv (r\"C:\\Users\\Gerson\\Desktop\\EP2_ia2019\\dataset_5secondWindow%5B3%5D.csv\", usecols =  [\"time\",\"android.sensor.accelerometer#mean\",\"android.sensor.linear_acceleration#mean\",\"android.sensor.orientation#mean\",\"speed#mean\"])\n",
    "baseTotalClasse = pandas.read_csv (r\"C:\\Users\\Gerson\\Desktop\\EP2_ia2019\\dataset_5secondWindow%5B3%5D.csv\", usecols = [\"target\"])\n",
    "\n",
    "print(baseTotalClasse['target'].unique())"
   ]
  },
  {
   "cell_type": "code",
   "execution_count": 6,
   "metadata": {},
   "outputs": [],
   "source": [
    "#normalização por padronização dos dados\n",
    "\n",
    "colunas =  list(baseTotalAtributos.columns)\n",
    "\n",
    "baseTotalAtributosNorm = baseTotalAtributos.copy()\n",
    "baseTotalAtributosNorm[colunas] = baseTotalAtributos[colunas].apply(scale)\n"
   ]
  },
  {
   "cell_type": "code",
   "execution_count": 7,
   "metadata": {},
   "outputs": [],
   "source": [
    "baseTreinoNaoNorm,  baseTesteNaoNorm , classeTreinoNaoNorm, classeTesteNaoNorm = train_test_split(baseTotalAtributos, baseTotalClasse, test_size = 0.3 , train_size = 0.7, random_state = 0)\n",
    "baseTreinoNorm,  baseTesteNorm , classeTreinoNorm, classeTesteNorm = train_test_split(baseTotalAtributosNorm, baseTotalClasse, test_size = 0.3 , train_size = 0.7, random_state = 0)\n"
   ]
  },
  {
   "cell_type": "code",
   "execution_count": 136,
   "metadata": {},
   "outputs": [],
   "source": [
    "def mudarClasse(baseClasseTreinamento , classesDistintas,test,train):\n",
    "    \n",
    "    baseTempClasseTreinamento =  baseClasseTreinamento.copy()\n",
    "\n",
    "    base_ruido ,base_nao_ruido =train_test_split(baseTempClasseTreinamento,test_size = test,  train_size = train , random_state = 0)\n",
    "    \n",
    "    for index,classe in base_ruido.iterrows():\n",
    "        classesDistintasTemp = classesDistintas\n",
    "        i =  np.where(classesDistintasTemp == classe['target'])\n",
    "        \n",
    "        classesDistintasTemp = np.delete(classesDistintasTemp,i)\n",
    "        \n",
    "        baseTempClasseTreinamento['target'][index] =  np.random.choice(classesDistintasTemp,1)\n",
    "        \n",
    "        \n",
    "    return  baseTempClasseTreinamento "
   ]
  },
  {
   "cell_type": "code",
   "execution_count": 137,
   "metadata": {},
   "outputs": [
    {
     "name": "stdout",
     "output_type": "stream",
     "text": [
      "Bus\n",
      "['Train']\n",
      "Walking\n",
      "['Still']\n",
      "Still\n",
      "['Car']\n",
      "Train\n",
      "['Car']\n",
      "Still\n",
      "['Train']\n"
     ]
    }
   ],
   "source": [
    "mudarClasse (classeTreinoNorm[:100], baseTotalClasse['target'].unique() ,0.95 ,0.05 )"
   ]
  },
  {
   "cell_type": "code",
   "execution_count": 123,
   "metadata": {},
   "outputs": [],
   "source": [
    "mudarClasse (classeTreinoNorm[:100], baseTotalClasse['target'].unique() ,0.95 ,0.05 )\n",
    "mudarClasse (classeTreinoNorm[:100], baseTotalClasse['target'].unique() ,0.9 ,0.1 )\n",
    "mudarClasse (classeTreinoNorm[:100], baseTotalClasse['target'].unique() ,0.85 ,0.15 )\n",
    "mudarClasse (classeTreinoNorm[:100], baseTotalClasse['target'].unique() ,0.8 ,0.2 )\n",
    "mudarClasse (classeTreinoNorm[:100], baseTotalClasse['target'].unique() ,0.75 ,0.25 )"
   ]
  },
  {
   "cell_type": "code",
   "execution_count": null,
   "metadata": {},
   "outputs": [],
   "source": []
  }
 ],
 "metadata": {
  "kernelspec": {
   "display_name": "Python 3",
   "language": "python",
   "name": "python3"
  },
  "language_info": {
   "codemirror_mode": {
    "name": "ipython",
    "version": 3
   },
   "file_extension": ".py",
   "mimetype": "text/x-python",
   "name": "python",
   "nbconvert_exporter": "python",
   "pygments_lexer": "ipython3",
   "version": "3.7.3"
  }
 },
 "nbformat": 4,
 "nbformat_minor": 2
}
