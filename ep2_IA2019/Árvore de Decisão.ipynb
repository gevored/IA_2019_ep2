{
 "cells": [
  {
   "cell_type": "code",
   "execution_count": 2,
   "metadata": {},
   "outputs": [],
   "source": [
    "%matplotlib inline\n",
    "import matplotlib.pyplot as plt\n",
    "import pandas \n",
    "import os\n",
    "import numpy as np\n",
    "from sklearn.neighbors import KNeighborsClassifier\n",
    "from sklearn.preprocessing import minmax_scale\n",
    "from sklearn.preprocessing import scale\n",
    "from sklearn.model_selection import train_test_split\n",
    "import math"
   ]
  },
  {
   "cell_type": "code",
   "execution_count": 16,
   "metadata": {},
   "outputs": [
    {
     "name": "stdout",
     "output_type": "stream",
     "text": [
      "['time' 'android.sensor.accelerometer#mean'\n",
      " 'android.sensor.linear_acceleration#mean'\n",
      " 'android.sensor.orientation#mean' 'speed#mean']\n"
     ]
    }
   ],
   "source": [
    "#leitura da base e definição dos campos utilizados\n",
    "baseTotalAtributos = pandas.read_csv (r\"C:\\Users\\gerso\\Desktop\\EP2_ia2019\\dataset_5secondWindow%5B3%5D.csv\", usecols =  [\"time\",\"android.sensor.accelerometer#mean\",\"android.sensor.linear_acceleration#mean\",\"android.sensor.orientation#mean\",\"speed#mean\"])\n",
    "baseTotalClasse = pandas.read_csv (r\"C:\\Users\\gerso\\Desktop\\EP2_ia2019\\dataset_5secondWindow%5B3%5D.csv\", usecols = [\"target\"])\n",
    "\n",
    "print(baseTotalAtributos.columns.values)"
   ]
  },
  {
   "cell_type": "code",
   "execution_count": 10,
   "metadata": {},
   "outputs": [],
   "source": [
    "\n",
    "#normalização linear dos dados \n",
    "def normalizacaoLinear(baseTotalAtr):\n",
    "    colunas =  list(baseTotalAtr.columns)\n",
    "\n",
    "    baseTotalAtributosNorm = baseTotalAtr.copy()\n",
    "    baseTotalAtributosNorm[colunas] = baseTotalAtr[colunas].apply(minmax_scale)\n",
    "    \n",
    "    return baseTotalAtributosNorm"
   ]
  },
  {
   "cell_type": "code",
   "execution_count": 20,
   "metadata": {},
   "outputs": [
    {
     "name": "stdout",
     "output_type": "stream",
     "text": [
      "['time' 'android.sensor.accelerometer#mean'\n",
      " 'android.sensor.linear_acceleration#mean'\n",
      " 'android.sensor.orientation#mean' 'speed#mean']\n"
     ]
    }
   ],
   "source": [
    "\n",
    "atributosNormalizados = normalizacaoLinear(baseTotalAtributos)\n",
    "\n",
    "#particionamento da base 70 % para o conjunto de teste e 30 % para o conjunto de treinamento\n",
    "baseTreinoNorm,  baseTesteNorm , classeTreinoNorm, classeTesteNorm = train_test_split(baseTotalAtributosNorm, baseTotalClasse, test_size = 0.3 , train_size = 0.7, random_state = 0)\n",
    "baseTreinoNaoNorm,  baseTesteNaoNorm , classeTreinoNaoNorm, classeTesteNaoNorm = train_test_split(baseTotalAtributos, baseTotalClasse, test_size = 0.3 , train_size = 0.7, random_state = 0)\n"
   ]
  },
  {
   "cell_type": "code",
   "execution_count": 71,
   "metadata": {},
   "outputs": [],
   "source": [
    "#discretização dos dados\n",
    "def discretizacaoBase(baseAtributos):\n",
    "    \n",
    "    baseDiscretizada = pandas.DataFrame()\n",
    "    for coluna in baseAtributos.columns.values:\n",
    "        baseDiscretizada[coluna] = pandas.cut(baseAtributos[coluna],bins = 5,labels= range(5))  \n",
    "    return baseDiscretizada"
   ]
  },
  {
   "cell_type": "code",
   "execution_count": 125,
   "metadata": {},
   "outputs": [],
   "source": [
    "def entropia (classes):\n",
    "    from math import log\n",
    "    log2 = lambda x:log(x)/log(2)\n",
    "    results , counts = np.unique(classes , return_counts = True)\n",
    "    \n",
    "    print(results,counts)\n",
    "    ent = 0.0\n",
    "    for r in range(len(results)):\n",
    "        p = float (counts[r])/len(classes)\n",
    "        ent = ent-p*log2(p)\n",
    "    \n",
    "    print(ent)\n",
    "    print (len(classes))\n",
    "    return ent\n",
    "     "
   ]
  },
  {
   "cell_type": "code",
   "execution_count": 126,
   "metadata": {},
   "outputs": [],
   "source": [
    "def arvoreDecisao(base_atributos_treino, base_classe_treino):\n",
    "\n",
    "    classes, counts = np.unique(base_atributos_treino, return_counts=True)\n",
    "    n_classes = base_classe_treino.shape[0]\n",
    "    \n",
    "    #cálculo da entropia\n",
    "    entropia(base_classe_treino)\n",
    "    \n",
    "    "
   ]
  },
  {
   "cell_type": "code",
   "execution_count": 127,
   "metadata": {},
   "outputs": [
    {
     "name": "stdout",
     "output_type": "stream",
     "text": [
      "['Bus' 'Car' 'Still' 'Train' 'Walking'] [836 823 817 820 829]\n",
      "2.3218794058760355\n",
      "4125\n"
     ]
    }
   ],
   "source": [
    "arvoreDecisao(discretizacaoBase(baseTreinoNorm) ,classeTreinoNorm)"
   ]
  },
  {
   "cell_type": "code",
   "execution_count": null,
   "metadata": {},
   "outputs": [],
   "source": []
  },
  {
   "cell_type": "code",
   "execution_count": null,
   "metadata": {},
   "outputs": [],
   "source": []
  }
 ],
 "metadata": {
  "kernelspec": {
   "display_name": "Python 3",
   "language": "python",
   "name": "python3"
  },
  "language_info": {
   "codemirror_mode": {
    "name": "ipython",
    "version": 3
   },
   "file_extension": ".py",
   "mimetype": "text/x-python",
   "name": "python",
   "nbconvert_exporter": "python",
   "pygments_lexer": "ipython3",
   "version": "3.7.3"
  }
 },
 "nbformat": 4,
 "nbformat_minor": 2
}
